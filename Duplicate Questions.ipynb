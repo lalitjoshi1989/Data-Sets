{
 "cells": [
  {
   "cell_type": "code",
   "execution_count": 1,
   "id": "236177b2",
   "metadata": {},
   "outputs": [],
   "source": [
    "import pandas as pd \n",
    "import numpy as np\n",
    "import matplotlib.pyplot as plt\n",
    "import nltk\n",
    "import string\n",
    "import re\n",
    "from nltk.corpus import stopwords\n",
    "from nltk.stem import WordNetLemmatizer\n",
    "from sklearn.feature_extraction.text import TfidfVectorizer\n",
    "\n",
    "import warnings\n",
    "warnings.filterwarnings('ignore')"
   ]
  },
  {
   "cell_type": "markdown",
   "id": "6278fe97",
   "metadata": {},
   "source": [
    "## About this file\n",
    "- There are over 400,000 lines of potential question duplicate pairs. Each line contains IDs for each question in the pair, the full text for each question, and a binary value that indicates whether the line truly contains a duplicate pair.\n",
    " - yes(1) \n",
    " - no(0)"
   ]
  },
  {
   "cell_type": "code",
   "execution_count": 2,
   "id": "b06fd2c5",
   "metadata": {},
   "outputs": [],
   "source": [
    "task = pd.read_csv('questions.csv')"
   ]
  },
  {
   "cell_type": "code",
   "execution_count": 3,
   "id": "000c4403",
   "metadata": {},
   "outputs": [
    {
     "data": {
      "text/plain": [
       "(404351, 6)"
      ]
     },
     "execution_count": 3,
     "metadata": {},
     "output_type": "execute_result"
    }
   ],
   "source": [
    "task.shape"
   ]
  },
  {
   "cell_type": "code",
   "execution_count": 4,
   "id": "7bf02aba",
   "metadata": {},
   "outputs": [
    {
     "data": {
      "text/html": [
       "<div>\n",
       "<style scoped>\n",
       "    .dataframe tbody tr th:only-of-type {\n",
       "        vertical-align: middle;\n",
       "    }\n",
       "\n",
       "    .dataframe tbody tr th {\n",
       "        vertical-align: top;\n",
       "    }\n",
       "\n",
       "    .dataframe thead th {\n",
       "        text-align: right;\n",
       "    }\n",
       "</style>\n",
       "<table border=\"1\" class=\"dataframe\">\n",
       "  <thead>\n",
       "    <tr style=\"text-align: right;\">\n",
       "      <th></th>\n",
       "      <th>id</th>\n",
       "      <th>qid1</th>\n",
       "      <th>qid2</th>\n",
       "      <th>question1</th>\n",
       "      <th>question2</th>\n",
       "      <th>is_duplicate</th>\n",
       "    </tr>\n",
       "  </thead>\n",
       "  <tbody>\n",
       "    <tr>\n",
       "      <th>0</th>\n",
       "      <td>0</td>\n",
       "      <td>1</td>\n",
       "      <td>2</td>\n",
       "      <td>What is the step by step guide to invest in sh...</td>\n",
       "      <td>What is the step by step guide to invest in sh...</td>\n",
       "      <td>0</td>\n",
       "    </tr>\n",
       "    <tr>\n",
       "      <th>1</th>\n",
       "      <td>1</td>\n",
       "      <td>3</td>\n",
       "      <td>4</td>\n",
       "      <td>What is the story of Kohinoor (Koh-i-Noor) Dia...</td>\n",
       "      <td>What would happen if the Indian government sto...</td>\n",
       "      <td>0</td>\n",
       "    </tr>\n",
       "    <tr>\n",
       "      <th>2</th>\n",
       "      <td>2</td>\n",
       "      <td>5</td>\n",
       "      <td>6</td>\n",
       "      <td>How can I increase the speed of my internet co...</td>\n",
       "      <td>How can Internet speed be increased by hacking...</td>\n",
       "      <td>0</td>\n",
       "    </tr>\n",
       "    <tr>\n",
       "      <th>3</th>\n",
       "      <td>3</td>\n",
       "      <td>7</td>\n",
       "      <td>8</td>\n",
       "      <td>Why am I mentally very lonely? How can I solve...</td>\n",
       "      <td>Find the remainder when [math]23^{24}[/math] i...</td>\n",
       "      <td>0</td>\n",
       "    </tr>\n",
       "    <tr>\n",
       "      <th>4</th>\n",
       "      <td>4</td>\n",
       "      <td>9</td>\n",
       "      <td>10</td>\n",
       "      <td>Which one dissolve in water quikly sugar, salt...</td>\n",
       "      <td>Which fish would survive in salt water?</td>\n",
       "      <td>0</td>\n",
       "    </tr>\n",
       "    <tr>\n",
       "      <th>5</th>\n",
       "      <td>5</td>\n",
       "      <td>11</td>\n",
       "      <td>12</td>\n",
       "      <td>Astrology: I am a Capricorn Sun Cap moon and c...</td>\n",
       "      <td>I'm a triple Capricorn (Sun, Moon and ascendan...</td>\n",
       "      <td>1</td>\n",
       "    </tr>\n",
       "    <tr>\n",
       "      <th>6</th>\n",
       "      <td>6</td>\n",
       "      <td>13</td>\n",
       "      <td>14</td>\n",
       "      <td>Should I buy tiago?</td>\n",
       "      <td>What keeps childern active and far from phone ...</td>\n",
       "      <td>0</td>\n",
       "    </tr>\n",
       "    <tr>\n",
       "      <th>7</th>\n",
       "      <td>7</td>\n",
       "      <td>15</td>\n",
       "      <td>16</td>\n",
       "      <td>How can I be a good geologist?</td>\n",
       "      <td>What should I do to be a great geologist?</td>\n",
       "      <td>1</td>\n",
       "    </tr>\n",
       "    <tr>\n",
       "      <th>8</th>\n",
       "      <td>8</td>\n",
       "      <td>17</td>\n",
       "      <td>18</td>\n",
       "      <td>When do you use シ instead of し?</td>\n",
       "      <td>When do you use \"&amp;\" instead of \"and\"?</td>\n",
       "      <td>0</td>\n",
       "    </tr>\n",
       "    <tr>\n",
       "      <th>9</th>\n",
       "      <td>9</td>\n",
       "      <td>19</td>\n",
       "      <td>20</td>\n",
       "      <td>Motorola (company): Can I hack my Charter Moto...</td>\n",
       "      <td>How do I hack Motorola DCX3400 for free internet?</td>\n",
       "      <td>0</td>\n",
       "    </tr>\n",
       "  </tbody>\n",
       "</table>\n",
       "</div>"
      ],
      "text/plain": [
       "   id  qid1  qid2                                          question1  \\\n",
       "0   0     1     2  What is the step by step guide to invest in sh...   \n",
       "1   1     3     4  What is the story of Kohinoor (Koh-i-Noor) Dia...   \n",
       "2   2     5     6  How can I increase the speed of my internet co...   \n",
       "3   3     7     8  Why am I mentally very lonely? How can I solve...   \n",
       "4   4     9    10  Which one dissolve in water quikly sugar, salt...   \n",
       "5   5    11    12  Astrology: I am a Capricorn Sun Cap moon and c...   \n",
       "6   6    13    14                                Should I buy tiago?   \n",
       "7   7    15    16                     How can I be a good geologist?   \n",
       "8   8    17    18                    When do you use シ instead of し?   \n",
       "9   9    19    20  Motorola (company): Can I hack my Charter Moto...   \n",
       "\n",
       "                                           question2  is_duplicate  \n",
       "0  What is the step by step guide to invest in sh...             0  \n",
       "1  What would happen if the Indian government sto...             0  \n",
       "2  How can Internet speed be increased by hacking...             0  \n",
       "3  Find the remainder when [math]23^{24}[/math] i...             0  \n",
       "4            Which fish would survive in salt water?             0  \n",
       "5  I'm a triple Capricorn (Sun, Moon and ascendan...             1  \n",
       "6  What keeps childern active and far from phone ...             0  \n",
       "7          What should I do to be a great geologist?             1  \n",
       "8              When do you use \"&\" instead of \"and\"?             0  \n",
       "9  How do I hack Motorola DCX3400 for free internet?             0  "
      ]
     },
     "execution_count": 4,
     "metadata": {},
     "output_type": "execute_result"
    }
   ],
   "source": [
    "task.head(10)"
   ]
  },
  {
   "cell_type": "code",
   "execution_count": 5,
   "id": "6a9eb8ba",
   "metadata": {},
   "outputs": [],
   "source": [
    "task_new = task[0:100]"
   ]
  },
  {
   "cell_type": "markdown",
   "id": "1c2bfc71",
   "metadata": {},
   "source": [
    "Keeping low records"
   ]
  },
  {
   "cell_type": "code",
   "execution_count": 6,
   "id": "a3fe334c",
   "metadata": {},
   "outputs": [
    {
     "data": {
      "text/plain": [
       "(100, 6)"
      ]
     },
     "execution_count": 6,
     "metadata": {},
     "output_type": "execute_result"
    }
   ],
   "source": [
    "task_new.shape"
   ]
  },
  {
   "cell_type": "code",
   "execution_count": 7,
   "id": "78f843fa",
   "metadata": {},
   "outputs": [
    {
     "data": {
      "text/html": [
       "<div>\n",
       "<style scoped>\n",
       "    .dataframe tbody tr th:only-of-type {\n",
       "        vertical-align: middle;\n",
       "    }\n",
       "\n",
       "    .dataframe tbody tr th {\n",
       "        vertical-align: top;\n",
       "    }\n",
       "\n",
       "    .dataframe thead th {\n",
       "        text-align: right;\n",
       "    }\n",
       "</style>\n",
       "<table border=\"1\" class=\"dataframe\">\n",
       "  <thead>\n",
       "    <tr style=\"text-align: right;\">\n",
       "      <th></th>\n",
       "      <th>id</th>\n",
       "      <th>qid1</th>\n",
       "      <th>qid2</th>\n",
       "      <th>question1</th>\n",
       "      <th>question2</th>\n",
       "      <th>is_duplicate</th>\n",
       "    </tr>\n",
       "  </thead>\n",
       "  <tbody>\n",
       "    <tr>\n",
       "      <th>0</th>\n",
       "      <td>0</td>\n",
       "      <td>1</td>\n",
       "      <td>2</td>\n",
       "      <td>What is the step by step guide to invest in sh...</td>\n",
       "      <td>What is the step by step guide to invest in sh...</td>\n",
       "      <td>0</td>\n",
       "    </tr>\n",
       "    <tr>\n",
       "      <th>1</th>\n",
       "      <td>1</td>\n",
       "      <td>3</td>\n",
       "      <td>4</td>\n",
       "      <td>What is the story of Kohinoor (Koh-i-Noor) Dia...</td>\n",
       "      <td>What would happen if the Indian government sto...</td>\n",
       "      <td>0</td>\n",
       "    </tr>\n",
       "    <tr>\n",
       "      <th>2</th>\n",
       "      <td>2</td>\n",
       "      <td>5</td>\n",
       "      <td>6</td>\n",
       "      <td>How can I increase the speed of my internet co...</td>\n",
       "      <td>How can Internet speed be increased by hacking...</td>\n",
       "      <td>0</td>\n",
       "    </tr>\n",
       "    <tr>\n",
       "      <th>3</th>\n",
       "      <td>3</td>\n",
       "      <td>7</td>\n",
       "      <td>8</td>\n",
       "      <td>Why am I mentally very lonely? How can I solve...</td>\n",
       "      <td>Find the remainder when [math]23^{24}[/math] i...</td>\n",
       "      <td>0</td>\n",
       "    </tr>\n",
       "    <tr>\n",
       "      <th>4</th>\n",
       "      <td>4</td>\n",
       "      <td>9</td>\n",
       "      <td>10</td>\n",
       "      <td>Which one dissolve in water quikly sugar, salt...</td>\n",
       "      <td>Which fish would survive in salt water?</td>\n",
       "      <td>0</td>\n",
       "    </tr>\n",
       "  </tbody>\n",
       "</table>\n",
       "</div>"
      ],
      "text/plain": [
       "   id  qid1  qid2                                          question1  \\\n",
       "0   0     1     2  What is the step by step guide to invest in sh...   \n",
       "1   1     3     4  What is the story of Kohinoor (Koh-i-Noor) Dia...   \n",
       "2   2     5     6  How can I increase the speed of my internet co...   \n",
       "3   3     7     8  Why am I mentally very lonely? How can I solve...   \n",
       "4   4     9    10  Which one dissolve in water quikly sugar, salt...   \n",
       "\n",
       "                                           question2  is_duplicate  \n",
       "0  What is the step by step guide to invest in sh...             0  \n",
       "1  What would happen if the Indian government sto...             0  \n",
       "2  How can Internet speed be increased by hacking...             0  \n",
       "3  Find the remainder when [math]23^{24}[/math] i...             0  \n",
       "4            Which fish would survive in salt water?             0  "
      ]
     },
     "execution_count": 7,
     "metadata": {},
     "output_type": "execute_result"
    }
   ],
   "source": [
    "task_new.head()"
   ]
  },
  {
   "cell_type": "code",
   "execution_count": 8,
   "id": "a49ee93f",
   "metadata": {},
   "outputs": [
    {
     "name": "stdout",
     "output_type": "stream",
     "text": [
      "<class 'pandas.core.frame.DataFrame'>\n",
      "RangeIndex: 100 entries, 0 to 99\n",
      "Data columns (total 6 columns):\n",
      " #   Column        Non-Null Count  Dtype \n",
      "---  ------        --------------  ----- \n",
      " 0   id            100 non-null    int64 \n",
      " 1   qid1          100 non-null    int64 \n",
      " 2   qid2          100 non-null    int64 \n",
      " 3   question1     100 non-null    object\n",
      " 4   question2     100 non-null    object\n",
      " 5   is_duplicate  100 non-null    int64 \n",
      "dtypes: int64(4), object(2)\n",
      "memory usage: 4.8+ KB\n"
     ]
    }
   ],
   "source": [
    "task_new.info()"
   ]
  },
  {
   "cell_type": "markdown",
   "id": "a2c408a9",
   "metadata": {},
   "source": [
    "- No null values.\n",
    "- RangeIndex: 100 entries, 0 to 99\n",
    "- Datatypes can also be observed "
   ]
  },
  {
   "cell_type": "code",
   "execution_count": 9,
   "id": "145ef48b",
   "metadata": {},
   "outputs": [
    {
     "data": {
      "text/plain": [
       "0"
      ]
     },
     "execution_count": 9,
     "metadata": {},
     "output_type": "execute_result"
    }
   ],
   "source": [
    "task_new.duplicated().sum()"
   ]
  },
  {
   "cell_type": "markdown",
   "id": "918d05e0",
   "metadata": {},
   "source": [
    "No duplicated rows in the dataset"
   ]
  },
  {
   "cell_type": "code",
   "execution_count": null,
   "id": "a4896b5a",
   "metadata": {},
   "outputs": [],
   "source": []
  },
  {
   "cell_type": "code",
   "execution_count": 10,
   "id": "37cc2cd8",
   "metadata": {},
   "outputs": [
    {
     "name": "stdout",
     "output_type": "stream",
     "text": [
      "0    65\n",
      "1    35\n",
      "Name: is_duplicate, dtype: int64\n",
      "\n",
      "\n",
      "0    3250.0\n",
      "1    1750.0\n",
      "Name: is_duplicate, dtype: float64\n"
     ]
    }
   ],
   "source": [
    "print(task_new['is_duplicate'].value_counts())\n",
    "print(\"\\n\")\n",
    "print(task_new['is_duplicate'].value_counts()/task_new['is_duplicate'].value_counts().count()*100)"
   ]
  },
  {
   "cell_type": "code",
   "execution_count": 11,
   "id": "c72311c3",
   "metadata": {},
   "outputs": [],
   "source": [
    "task_new.drop(['id','qid1','qid2'], axis =1, inplace=True)"
   ]
  },
  {
   "cell_type": "code",
   "execution_count": 12,
   "id": "70f7e990",
   "metadata": {},
   "outputs": [],
   "source": [
    "task_new['question1'] = task_new['question1'].str.lower()\n",
    "task_new['question2'] = task_new['question2'].str.lower()"
   ]
  },
  {
   "cell_type": "code",
   "execution_count": 13,
   "id": "b9d78665",
   "metadata": {},
   "outputs": [],
   "source": [
    "stop_word = set(stopwords.words('english'))\n",
    "task_new[\"question1\"] = task_new[\"question1\"].apply(lambda x: ' '.join(term for term in str(x).split() if term not in stop_word))\n",
    "task_new[\"question2\"] = task_new[\"question2\"].apply(lambda x: ' '.join(term for term in str(x).split() if term not in stop_word))"
   ]
  },
  {
   "cell_type": "code",
   "execution_count": 14,
   "id": "c7b7f0b5",
   "metadata": {},
   "outputs": [],
   "source": [
    "task_new['question1'] = task_new['question1'].str.replace('\\d+','')\n",
    "task_new['question2'] = task_new['question2'].str.replace('\\d+','')\n",
    "task_new['question1'] = task_new['question1'].str.replace(r'[!\"\\$%&\\'()*+,\\-.\\/:;=#@?\\[\\\\\\]^_`{|}~]*','')\n",
    "task_new['question2'] = task_new['question2'].str.replace(r'[!\"\\$%&\\'()*+,\\-.\\/:;=#@?\\[\\\\\\]^_`{|}~]*','')"
   ]
  },
  {
   "cell_type": "code",
   "execution_count": 15,
   "id": "7028ac92",
   "metadata": {},
   "outputs": [
    {
     "data": {
      "text/html": [
       "<div>\n",
       "<style scoped>\n",
       "    .dataframe tbody tr th:only-of-type {\n",
       "        vertical-align: middle;\n",
       "    }\n",
       "\n",
       "    .dataframe tbody tr th {\n",
       "        vertical-align: top;\n",
       "    }\n",
       "\n",
       "    .dataframe thead th {\n",
       "        text-align: right;\n",
       "    }\n",
       "</style>\n",
       "<table border=\"1\" class=\"dataframe\">\n",
       "  <thead>\n",
       "    <tr style=\"text-align: right;\">\n",
       "      <th></th>\n",
       "      <th>question1</th>\n",
       "      <th>question2</th>\n",
       "      <th>is_duplicate</th>\n",
       "    </tr>\n",
       "  </thead>\n",
       "  <tbody>\n",
       "    <tr>\n",
       "      <th>0</th>\n",
       "      <td>step step guide invest share market india</td>\n",
       "      <td>step step guide invest share market</td>\n",
       "      <td>0</td>\n",
       "    </tr>\n",
       "    <tr>\n",
       "      <th>1</th>\n",
       "      <td>story kohinoor kohinoor diamond</td>\n",
       "      <td>would happen indian government stole kohinoor ...</td>\n",
       "      <td>0</td>\n",
       "    </tr>\n",
       "    <tr>\n",
       "      <th>2</th>\n",
       "      <td>increase speed internet connection using vpn</td>\n",
       "      <td>internet speed increased hacking dns</td>\n",
       "      <td>0</td>\n",
       "    </tr>\n",
       "    <tr>\n",
       "      <th>3</th>\n",
       "      <td>mentally lonely solve it</td>\n",
       "      <td>find remainder mathmath divided</td>\n",
       "      <td>0</td>\n",
       "    </tr>\n",
       "    <tr>\n",
       "      <th>4</th>\n",
       "      <td>one dissolve water quikly sugar salt methane c...</td>\n",
       "      <td>fish would survive salt water</td>\n",
       "      <td>0</td>\n",
       "    </tr>\n",
       "  </tbody>\n",
       "</table>\n",
       "</div>"
      ],
      "text/plain": [
       "                                           question1  \\\n",
       "0          step step guide invest share market india   \n",
       "1                    story kohinoor kohinoor diamond   \n",
       "2       increase speed internet connection using vpn   \n",
       "3                           mentally lonely solve it   \n",
       "4  one dissolve water quikly sugar salt methane c...   \n",
       "\n",
       "                                           question2  is_duplicate  \n",
       "0                step step guide invest share market             0  \n",
       "1  would happen indian government stole kohinoor ...             0  \n",
       "2               internet speed increased hacking dns             0  \n",
       "3                   find remainder mathmath divided              0  \n",
       "4                      fish would survive salt water             0  "
      ]
     },
     "execution_count": 15,
     "metadata": {},
     "output_type": "execute_result"
    }
   ],
   "source": [
    "task_new.head()"
   ]
  },
  {
   "cell_type": "code",
   "execution_count": 16,
   "id": "b1eb4741",
   "metadata": {},
   "outputs": [],
   "source": [
    "from sklearn.naive_bayes import MultinomialNB\n",
    "from sklearn.ensemble import RandomForestClassifier\n",
    "from sklearn.model_selection import train_test_split\n",
    "from sklearn.metrics import accuracy_score, confusion_matrix,classification_report"
   ]
  },
  {
   "cell_type": "code",
   "execution_count": 17,
   "id": "4b70048f",
   "metadata": {},
   "outputs": [],
   "source": [
    "questions = list(task_new['question1']) + list(task_new['question2'])"
   ]
  },
  {
   "cell_type": "code",
   "execution_count": 18,
   "id": "a861aeb0",
   "metadata": {},
   "outputs": [],
   "source": [
    "from sklearn.feature_extraction.text import TfidfVectorizer\n",
    "cv = TfidfVectorizer()\n",
    "q1_arr, q2_arr = np.vsplit(cv.fit_transform(questions).toarray(),2)"
   ]
  },
  {
   "cell_type": "markdown",
   "id": "52b14320",
   "metadata": {},
   "source": [
    "Creating a final data frame"
   ]
  },
  {
   "cell_type": "code",
   "execution_count": 19,
   "id": "4fd3e4a9",
   "metadata": {},
   "outputs": [],
   "source": [
    "new_data1 = pd.DataFrame(q1_arr, index=task_new.index)\n",
    "new_data2 = pd.DataFrame(q2_arr, index=task_new.index)\n",
    "new_data = pd.concat([new_data1, new_data2], axis=1)"
   ]
  },
  {
   "cell_type": "code",
   "execution_count": 20,
   "id": "a70b58ff",
   "metadata": {},
   "outputs": [],
   "source": [
    "new_data['is_duplicate'] = task_new['is_duplicate']"
   ]
  },
  {
   "cell_type": "code",
   "execution_count": 21,
   "id": "ea1bb85c",
   "metadata": {},
   "outputs": [
    {
     "data": {
      "text/html": [
       "<div>\n",
       "<style scoped>\n",
       "    .dataframe tbody tr th:only-of-type {\n",
       "        vertical-align: middle;\n",
       "    }\n",
       "\n",
       "    .dataframe tbody tr th {\n",
       "        vertical-align: top;\n",
       "    }\n",
       "\n",
       "    .dataframe thead th {\n",
       "        text-align: right;\n",
       "    }\n",
       "</style>\n",
       "<table border=\"1\" class=\"dataframe\">\n",
       "  <thead>\n",
       "    <tr style=\"text-align: right;\">\n",
       "      <th></th>\n",
       "      <th>0</th>\n",
       "      <th>1</th>\n",
       "      <th>2</th>\n",
       "      <th>3</th>\n",
       "      <th>4</th>\n",
       "      <th>5</th>\n",
       "      <th>6</th>\n",
       "      <th>7</th>\n",
       "      <th>8</th>\n",
       "      <th>9</th>\n",
       "      <th>...</th>\n",
       "      <th>640</th>\n",
       "      <th>641</th>\n",
       "      <th>642</th>\n",
       "      <th>643</th>\n",
       "      <th>644</th>\n",
       "      <th>645</th>\n",
       "      <th>646</th>\n",
       "      <th>647</th>\n",
       "      <th>648</th>\n",
       "      <th>is_duplicate</th>\n",
       "    </tr>\n",
       "  </thead>\n",
       "  <tbody>\n",
       "    <tr>\n",
       "      <th>0</th>\n",
       "      <td>0.0</td>\n",
       "      <td>0.0</td>\n",
       "      <td>0.0</td>\n",
       "      <td>0.0</td>\n",
       "      <td>0.0</td>\n",
       "      <td>0.0</td>\n",
       "      <td>0.0</td>\n",
       "      <td>0.0</td>\n",
       "      <td>0.0</td>\n",
       "      <td>0.0</td>\n",
       "      <td>...</td>\n",
       "      <td>0.0</td>\n",
       "      <td>0.0</td>\n",
       "      <td>0.0</td>\n",
       "      <td>0.000000</td>\n",
       "      <td>0.0</td>\n",
       "      <td>0.0</td>\n",
       "      <td>0.0</td>\n",
       "      <td>0.0</td>\n",
       "      <td>0.0</td>\n",
       "      <td>0</td>\n",
       "    </tr>\n",
       "    <tr>\n",
       "      <th>1</th>\n",
       "      <td>0.0</td>\n",
       "      <td>0.0</td>\n",
       "      <td>0.0</td>\n",
       "      <td>0.0</td>\n",
       "      <td>0.0</td>\n",
       "      <td>0.0</td>\n",
       "      <td>0.0</td>\n",
       "      <td>0.0</td>\n",
       "      <td>0.0</td>\n",
       "      <td>0.0</td>\n",
       "      <td>...</td>\n",
       "      <td>0.0</td>\n",
       "      <td>0.0</td>\n",
       "      <td>0.0</td>\n",
       "      <td>0.247320</td>\n",
       "      <td>0.0</td>\n",
       "      <td>0.0</td>\n",
       "      <td>0.0</td>\n",
       "      <td>0.0</td>\n",
       "      <td>0.0</td>\n",
       "      <td>0</td>\n",
       "    </tr>\n",
       "    <tr>\n",
       "      <th>2</th>\n",
       "      <td>0.0</td>\n",
       "      <td>0.0</td>\n",
       "      <td>0.0</td>\n",
       "      <td>0.0</td>\n",
       "      <td>0.0</td>\n",
       "      <td>0.0</td>\n",
       "      <td>0.0</td>\n",
       "      <td>0.0</td>\n",
       "      <td>0.0</td>\n",
       "      <td>0.0</td>\n",
       "      <td>...</td>\n",
       "      <td>0.0</td>\n",
       "      <td>0.0</td>\n",
       "      <td>0.0</td>\n",
       "      <td>0.000000</td>\n",
       "      <td>0.0</td>\n",
       "      <td>0.0</td>\n",
       "      <td>0.0</td>\n",
       "      <td>0.0</td>\n",
       "      <td>0.0</td>\n",
       "      <td>0</td>\n",
       "    </tr>\n",
       "    <tr>\n",
       "      <th>3</th>\n",
       "      <td>0.0</td>\n",
       "      <td>0.0</td>\n",
       "      <td>0.0</td>\n",
       "      <td>0.0</td>\n",
       "      <td>0.0</td>\n",
       "      <td>0.0</td>\n",
       "      <td>0.0</td>\n",
       "      <td>0.0</td>\n",
       "      <td>0.0</td>\n",
       "      <td>0.0</td>\n",
       "      <td>...</td>\n",
       "      <td>0.0</td>\n",
       "      <td>0.0</td>\n",
       "      <td>0.0</td>\n",
       "      <td>0.000000</td>\n",
       "      <td>0.0</td>\n",
       "      <td>0.0</td>\n",
       "      <td>0.0</td>\n",
       "      <td>0.0</td>\n",
       "      <td>0.0</td>\n",
       "      <td>0</td>\n",
       "    </tr>\n",
       "    <tr>\n",
       "      <th>4</th>\n",
       "      <td>0.0</td>\n",
       "      <td>0.0</td>\n",
       "      <td>0.0</td>\n",
       "      <td>0.0</td>\n",
       "      <td>0.0</td>\n",
       "      <td>0.0</td>\n",
       "      <td>0.0</td>\n",
       "      <td>0.0</td>\n",
       "      <td>0.0</td>\n",
       "      <td>0.0</td>\n",
       "      <td>...</td>\n",
       "      <td>0.0</td>\n",
       "      <td>0.0</td>\n",
       "      <td>0.0</td>\n",
       "      <td>0.363578</td>\n",
       "      <td>0.0</td>\n",
       "      <td>0.0</td>\n",
       "      <td>0.0</td>\n",
       "      <td>0.0</td>\n",
       "      <td>0.0</td>\n",
       "      <td>0</td>\n",
       "    </tr>\n",
       "  </tbody>\n",
       "</table>\n",
       "<p>5 rows × 1299 columns</p>\n",
       "</div>"
      ],
      "text/plain": [
       "     0    1    2    3    4    5    6    7    8    9  ...  640  641  642  \\\n",
       "0  0.0  0.0  0.0  0.0  0.0  0.0  0.0  0.0  0.0  0.0  ...  0.0  0.0  0.0   \n",
       "1  0.0  0.0  0.0  0.0  0.0  0.0  0.0  0.0  0.0  0.0  ...  0.0  0.0  0.0   \n",
       "2  0.0  0.0  0.0  0.0  0.0  0.0  0.0  0.0  0.0  0.0  ...  0.0  0.0  0.0   \n",
       "3  0.0  0.0  0.0  0.0  0.0  0.0  0.0  0.0  0.0  0.0  ...  0.0  0.0  0.0   \n",
       "4  0.0  0.0  0.0  0.0  0.0  0.0  0.0  0.0  0.0  0.0  ...  0.0  0.0  0.0   \n",
       "\n",
       "        643  644  645  646  647  648  is_duplicate  \n",
       "0  0.000000  0.0  0.0  0.0  0.0  0.0             0  \n",
       "1  0.247320  0.0  0.0  0.0  0.0  0.0             0  \n",
       "2  0.000000  0.0  0.0  0.0  0.0  0.0             0  \n",
       "3  0.000000  0.0  0.0  0.0  0.0  0.0             0  \n",
       "4  0.363578  0.0  0.0  0.0  0.0  0.0             0  \n",
       "\n",
       "[5 rows x 1299 columns]"
      ]
     },
     "execution_count": 21,
     "metadata": {},
     "output_type": "execute_result"
    }
   ],
   "source": [
    "new_data.head()"
   ]
  },
  {
   "cell_type": "code",
   "execution_count": 22,
   "id": "b8deff4d",
   "metadata": {},
   "outputs": [
    {
     "data": {
      "text/plain": [
       "<AxesSubplot:xlabel='is_duplicate', ylabel='count'>"
      ]
     },
     "execution_count": 22,
     "metadata": {},
     "output_type": "execute_result"
    },
    {
     "data": {
      "image/png": "[encoded data removed]",
      "text/plain": [
       "<Figure size 432x288 with 1 Axes>"
      ]
     },
     "metadata": {
      "needs_background": "light"
     },
     "output_type": "display_data"
    }
   ],
   "source": [
    "import seaborn as sns\n",
    "sns.countplot(new_data['is_duplicate'])"
   ]
  },
  {
   "cell_type": "code",
   "execution_count": 23,
   "id": "811ed5f2",
   "metadata": {},
   "outputs": [],
   "source": [
    "a = new_data.iloc[:,0:-1]\n",
    "a = np.array(a)"
   ]
  },
  {
   "cell_type": "code",
   "execution_count": 24,
   "id": "fcb2af82",
   "metadata": {},
   "outputs": [],
   "source": [
    "b = pd.DataFrame(new_data.iloc[:,-1])"
   ]
  },
  {
   "cell_type": "code",
   "execution_count": 25,
   "id": "a2d4ae2c",
   "metadata": {},
   "outputs": [],
   "source": [
    "from imblearn.over_sampling import SMOTE\n",
    "smote = SMOTE()\n",
    "a,b = smote.fit_resample(a,b)"
   ]
  },
  {
   "cell_type": "code",
   "execution_count": 26,
   "id": "02bfeb3f",
   "metadata": {},
   "outputs": [],
   "source": [
    "from sklearn.preprocessing import power_transform\n",
    "a = power_transform(a,method='yeo-johnson')"
   ]
  },
  {
   "cell_type": "code",
   "execution_count": 27,
   "id": "0342a1bc",
   "metadata": {},
   "outputs": [],
   "source": [
    "from sklearn.preprocessing import MinMaxScaler\n",
    "sc = MinMaxScaler()\n",
    "a = sc.fit_transform(a)"
   ]
  },
  {
   "cell_type": "code",
   "execution_count": 28,
   "id": "150cf030",
   "metadata": {},
   "outputs": [],
   "source": [
    "x_train, x_test, y_train, y_test = train_test_split(a,b,test_size=0.2,random_state=42)"
   ]
  },
  {
   "cell_type": "code",
   "execution_count": 29,
   "id": "ce139dab",
   "metadata": {},
   "outputs": [],
   "source": [
    "model1 = MultinomialNB()\n",
    "model2 = RandomForestClassifier()"
   ]
  },
  {
   "cell_type": "code",
   "execution_count": 30,
   "id": "1d2a6831",
   "metadata": {},
   "outputs": [],
   "source": [
    "model1.fit(x_train,y_train)\n",
    "predict = model1.predict(x_test)"
   ]
  },
  {
   "cell_type": "code",
   "execution_count": 31,
   "id": "576c9654",
   "metadata": {},
   "outputs": [
    {
     "name": "stdout",
     "output_type": "stream",
     "text": [
      "Final score:-  0.8846153846153846\n"
     ]
    }
   ],
   "source": [
    "print(\"Final score:- \", accuracy_score(y_test,predict))"
   ]
  },
  {
   "cell_type": "code",
   "execution_count": 32,
   "id": "0d8868a9",
   "metadata": {},
   "outputs": [
    {
     "name": "stdout",
     "output_type": "stream",
     "text": [
      "Classification Report:- \n",
      "               precision    recall  f1-score   support\n",
      "\n",
      "           0       0.93      0.87      0.90        15\n",
      "           1       0.83      0.91      0.87        11\n",
      "\n",
      "    accuracy                           0.88        26\n",
      "   macro avg       0.88      0.89      0.88        26\n",
      "weighted avg       0.89      0.88      0.89        26\n",
      "\n"
     ]
    }
   ],
   "source": [
    "print(\"Classification Report:- \\n\", classification_report(y_test,predict))"
   ]
  },
  {
   "cell_type": "code",
   "execution_count": 33,
   "id": "b98d01e7",
   "metadata": {},
   "outputs": [],
   "source": [
    "model2.fit(x_train,y_train)\n",
    "predict1 = model2.predict(x_test)"
   ]
  },
  {
   "cell_type": "code",
   "execution_count": 34,
   "id": "5547e483",
   "metadata": {},
   "outputs": [
    {
     "name": "stdout",
     "output_type": "stream",
     "text": [
      "Final score for Random Forest:-  0.8461538461538461\n"
     ]
    }
   ],
   "source": [
    "print(\"Final score for Random Forest:- \", accuracy_score(y_test,predict1))"
   ]
  },
  {
   "cell_type": "code",
   "execution_count": 35,
   "id": "a7b9f414",
   "metadata": {},
   "outputs": [
    {
     "name": "stdout",
     "output_type": "stream",
     "text": [
      "Classification Report:- \n",
      "               precision    recall  f1-score   support\n",
      "\n",
      "           0       0.79      1.00      0.88        15\n",
      "           1       1.00      0.64      0.78        11\n",
      "\n",
      "    accuracy                           0.85        26\n",
      "   macro avg       0.89      0.82      0.83        26\n",
      "weighted avg       0.88      0.85      0.84        26\n",
      "\n"
     ]
    }
   ],
   "source": [
    "print(\"Classification Report:- \\n\", classification_report(y_test,predict1))"
   ]
  },
  {
   "cell_type": "code",
   "execution_count": 36,
   "id": "6695fec4",
   "metadata": {},
   "outputs": [
    {
     "name": "stdout",
     "output_type": "stream",
     "text": [
      "confusion matrix:- \n",
      " [[13  2]\n",
      " [ 1 10]]\n"
     ]
    }
   ],
   "source": [
    "print(\"confusion matrix:- \\n\", confusion_matrix(y_test,predict))"
   ]
  },
  {
   "cell_type": "code",
   "execution_count": 37,
   "id": "500bbb97",
   "metadata": {},
   "outputs": [
    {
     "name": "stdout",
     "output_type": "stream",
     "text": [
      "confusion matrix:- \n",
      " [[15  0]\n",
      " [ 4  7]]\n"
     ]
    }
   ],
   "source": [
    "print(\"confusion matrix:- \\n\", confusion_matrix(y_test,predict1))"
   ]
  },
  {
   "cell_type": "code",
   "execution_count": 38,
   "id": "10241dd4",
   "metadata": {},
   "outputs": [],
   "source": [
    "from sklearn.model_selection import RandomizedSearchCV"
   ]
  },
  {
   "cell_type": "code",
   "execution_count": 39,
   "id": "65314f61",
   "metadata": {},
   "outputs": [],
   "source": [
    "criterion = ['gini','entropy']\n",
    "max_depth = [int(x) for x in np.linspace(5,30,num=6)]\n",
    "min_samples_split = [5,10,15,20,100]\n",
    "min_samples_leaf = [2,5,10,15]\n",
    "ccp_alpha = [0.5,1.5,2.5,3.5,4.5,5.5]\n",
    "max_features = ['auto','sqrt','log2']\n",
    "\n",
    "random_grid = {\n",
    "    'criterion':criterion,\n",
    "    'max_features':max_features,\n",
    "    'max_features':max_features,\n",
    "    'ccp_alpha':ccp_alpha,\n",
    "    'max_depth':max_depth,\n",
    "    'min_samples_split':min_samples_split,\n",
    "    'min_samples_leaf':min_samples_leaf\n",
    "}"
   ]
  },
  {
   "cell_type": "code",
   "execution_count": 40,
   "id": "0f36c773",
   "metadata": {},
   "outputs": [],
   "source": [
    "rf_random = RandomizedSearchCV(estimator=model2,param_distributions=random_grid,scoring='neg_mean_squared_error',n_iter=10,cv=5,verbose=2,n_jobs=1)"
   ]
  },
  {
   "cell_type": "code",
   "execution_count": 41,
   "id": "5e6c924b",
   "metadata": {},
   "outputs": [
    {
     "name": "stdout",
     "output_type": "stream",
     "text": [
      "Fitting 5 folds for each of 10 candidates, totalling 50 fits\n",
      "[CV] END ccp_alpha=4.5, criterion=gini, max_depth=30, max_features=auto, min_samples_leaf=5, min_samples_split=15; total time=   0.1s\n",
      "[CV] END ccp_alpha=4.5, criterion=gini, max_depth=30, max_features=auto, min_samples_leaf=5, min_samples_split=15; total time=   0.1s\n",
      "[CV] END ccp_alpha=4.5, criterion=gini, max_depth=30, max_features=auto, min_samples_leaf=5, min_samples_split=15; total time=   0.1s\n",
      "[CV] END ccp_alpha=4.5, criterion=gini, max_depth=30, max_features=auto, min_samples_leaf=5, min_samples_split=15; total time=   0.0s\n",
      "[CV] END ccp_alpha=4.5, criterion=gini, max_depth=30, max_features=auto, min_samples_leaf=5, min_samples_split=15; total time=   0.1s\n",
      "[CV] END ccp_alpha=5.5, criterion=gini, max_depth=15, max_features=log2, min_samples_leaf=15, min_samples_split=100; total time=   0.1s\n",
      "[CV] END ccp_alpha=5.5, criterion=gini, max_depth=15, max_features=log2, min_samples_leaf=15, min_samples_split=100; total time=   0.0s\n",
      "[CV] END ccp_alpha=5.5, criterion=gini, max_depth=15, max_features=log2, min_samples_leaf=15, min_samples_split=100; total time=   0.0s\n",
      "[CV] END ccp_alpha=5.5, criterion=gini, max_depth=15, max_features=log2, min_samples_leaf=15, min_samples_split=100; total time=   0.1s\n",
      "[CV] END ccp_alpha=5.5, criterion=gini, max_depth=15, max_features=log2, min_samples_leaf=15, min_samples_split=100; total time=   0.0s\n",
      "[CV] END ccp_alpha=4.5, criterion=entropy, max_depth=25, max_features=log2, min_samples_leaf=5, min_samples_split=5; total time=   0.0s\n",
      "[CV] END ccp_alpha=4.5, criterion=entropy, max_depth=25, max_features=log2, min_samples_leaf=5, min_samples_split=5; total time=   0.0s\n",
      "[CV] END ccp_alpha=4.5, criterion=entropy, max_depth=25, max_features=log2, min_samples_leaf=5, min_samples_split=5; total time=   0.0s\n",
      "[CV] END ccp_alpha=4.5, criterion=entropy, max_depth=25, max_features=log2, min_samples_leaf=5, min_samples_split=5; total time=   0.0s\n",
      "[CV] END ccp_alpha=4.5, criterion=entropy, max_depth=25, max_features=log2, min_samples_leaf=5, min_samples_split=5; total time=   0.0s\n",
      "[CV] END ccp_alpha=1.5, criterion=entropy, max_depth=15, max_features=log2, min_samples_leaf=10, min_samples_split=100; total time=   0.0s\n",
      "[CV] END ccp_alpha=1.5, criterion=entropy, max_depth=15, max_features=log2, min_samples_leaf=10, min_samples_split=100; total time=   0.0s\n",
      "[CV] END ccp_alpha=1.5, criterion=entropy, max_depth=15, max_features=log2, min_samples_leaf=10, min_samples_split=100; total time=   0.0s\n",
      "[CV] END ccp_alpha=1.5, criterion=entropy, max_depth=15, max_features=log2, min_samples_leaf=10, min_samples_split=100; total time=   0.0s\n",
      "[CV] END ccp_alpha=1.5, criterion=entropy, max_depth=15, max_features=log2, min_samples_leaf=10, min_samples_split=100; total time=   0.0s\n",
      "[CV] END ccp_alpha=3.5, criterion=entropy, max_depth=25, max_features=log2, min_samples_leaf=2, min_samples_split=15; total time=   0.0s\n",
      "[CV] END ccp_alpha=3.5, criterion=entropy, max_depth=25, max_features=log2, min_samples_leaf=2, min_samples_split=15; total time=   0.1s\n",
      "[CV] END ccp_alpha=3.5, criterion=entropy, max_depth=25, max_features=log2, min_samples_leaf=2, min_samples_split=15; total time=   0.1s\n",
      "[CV] END ccp_alpha=3.5, criterion=entropy, max_depth=25, max_features=log2, min_samples_leaf=2, min_samples_split=15; total time=   0.1s\n",
      "[CV] END ccp_alpha=3.5, criterion=entropy, max_depth=25, max_features=log2, min_samples_leaf=2, min_samples_split=15; total time=   0.1s\n",
      "[CV] END ccp_alpha=2.5, criterion=entropy, max_depth=5, max_features=auto, min_samples_leaf=10, min_samples_split=10; total time=   0.0s\n",
      "[CV] END ccp_alpha=2.5, criterion=entropy, max_depth=5, max_features=auto, min_samples_leaf=10, min_samples_split=10; total time=   0.0s\n",
      "[CV] END ccp_alpha=2.5, criterion=entropy, max_depth=5, max_features=auto, min_samples_leaf=10, min_samples_split=10; total time=   0.0s\n",
      "[CV] END ccp_alpha=2.5, criterion=entropy, max_depth=5, max_features=auto, min_samples_leaf=10, min_samples_split=10; total time=   0.1s\n",
      "[CV] END ccp_alpha=2.5, criterion=entropy, max_depth=5, max_features=auto, min_samples_leaf=10, min_samples_split=10; total time=   0.0s\n",
      "[CV] END ccp_alpha=1.5, criterion=entropy, max_depth=10, max_features=log2, min_samples_leaf=15, min_samples_split=100; total time=   0.1s\n",
      "[CV] END ccp_alpha=1.5, criterion=entropy, max_depth=10, max_features=log2, min_samples_leaf=15, min_samples_split=100; total time=   0.0s\n",
      "[CV] END ccp_alpha=1.5, criterion=entropy, max_depth=10, max_features=log2, min_samples_leaf=15, min_samples_split=100; total time=   0.0s\n",
      "[CV] END ccp_alpha=1.5, criterion=entropy, max_depth=10, max_features=log2, min_samples_leaf=15, min_samples_split=100; total time=   0.0s\n",
      "[CV] END ccp_alpha=1.5, criterion=entropy, max_depth=10, max_features=log2, min_samples_leaf=15, min_samples_split=100; total time=   0.0s\n",
      "[CV] END ccp_alpha=1.5, criterion=entropy, max_depth=25, max_features=log2, min_samples_leaf=5, min_samples_split=20; total time=   0.0s\n",
      "[CV] END ccp_alpha=1.5, criterion=entropy, max_depth=25, max_features=log2, min_samples_leaf=5, min_samples_split=20; total time=   0.0s\n",
      "[CV] END ccp_alpha=1.5, criterion=entropy, max_depth=25, max_features=log2, min_samples_leaf=5, min_samples_split=20; total time=   0.0s\n",
      "[CV] END ccp_alpha=1.5, criterion=entropy, max_depth=25, max_features=log2, min_samples_leaf=5, min_samples_split=20; total time=   0.1s\n",
      "[CV] END ccp_alpha=1.5, criterion=entropy, max_depth=25, max_features=log2, min_samples_leaf=5, min_samples_split=20; total time=   0.1s\n",
      "[CV] END ccp_alpha=3.5, criterion=gini, max_depth=15, max_features=auto, min_samples_leaf=10, min_samples_split=10; total time=   0.0s\n",
      "[CV] END ccp_alpha=3.5, criterion=gini, max_depth=15, max_features=auto, min_samples_leaf=10, min_samples_split=10; total time=   0.0s\n",
      "[CV] END ccp_alpha=3.5, criterion=gini, max_depth=15, max_features=auto, min_samples_leaf=10, min_samples_split=10; total time=   0.1s\n",
      "[CV] END ccp_alpha=3.5, criterion=gini, max_depth=15, max_features=auto, min_samples_leaf=10, min_samples_split=10; total time=   0.0s\n",
      "[CV] END ccp_alpha=3.5, criterion=gini, max_depth=15, max_features=auto, min_samples_leaf=10, min_samples_split=10; total time=   0.0s\n",
      "[CV] END ccp_alpha=3.5, criterion=entropy, max_depth=25, max_features=log2, min_samples_leaf=10, min_samples_split=100; total time=   0.1s\n",
      "[CV] END ccp_alpha=3.5, criterion=entropy, max_depth=25, max_features=log2, min_samples_leaf=10, min_samples_split=100; total time=   0.1s\n",
      "[CV] END ccp_alpha=3.5, criterion=entropy, max_depth=25, max_features=log2, min_samples_leaf=10, min_samples_split=100; total time=   0.0s\n",
      "[CV] END ccp_alpha=3.5, criterion=entropy, max_depth=25, max_features=log2, min_samples_leaf=10, min_samples_split=100; total time=   0.1s\n",
      "[CV] END ccp_alpha=3.5, criterion=entropy, max_depth=25, max_features=log2, min_samples_leaf=10, min_samples_split=100; total time=   0.0s\n"
     ]
    },
    {
     "data": {
      "text/plain": [
       "RandomizedSearchCV(cv=5, estimator=RandomForestClassifier(), n_jobs=1,\n",
       "                   param_distributions={'ccp_alpha': [0.5, 1.5, 2.5, 3.5, 4.5,\n",
       "                                                      5.5],\n",
       "                                        'criterion': ['gini', 'entropy'],\n",
       "                                        'max_depth': [5, 10, 15, 20, 25, 30],\n",
       "                                        'max_features': ['auto', 'sqrt',\n",
       "                                                         'log2'],\n",
       "                                        'min_samples_leaf': [2, 5, 10, 15],\n",
       "                                        'min_samples_split': [5, 10, 15, 20,\n",
       "                                                              100]},\n",
       "                   scoring='neg_mean_squared_error', verbose=2)"
      ]
     },
     "execution_count": 41,
     "metadata": {},
     "output_type": "execute_result"
    }
   ],
   "source": [
    "rf_random.fit(x_train,y_train)"
   ]
  },
  {
   "cell_type": "code",
   "execution_count": 42,
   "id": "73be1e4a",
   "metadata": {},
   "outputs": [
    {
     "data": {
      "text/plain": [
       "RandomForestClassifier(ccp_alpha=4.5, max_depth=30, min_samples_leaf=5,\n",
       "                       min_samples_split=15)"
      ]
     },
     "execution_count": 42,
     "metadata": {},
     "output_type": "execute_result"
    }
   ],
   "source": [
    "rf_random.best_estimator_"
   ]
  },
  {
   "cell_type": "code",
   "execution_count": 56,
   "id": "4f14af1f",
   "metadata": {},
   "outputs": [],
   "source": [
    "model3 = RandomForestClassifier(ccp_alpha=4.5, max_depth=30, min_samples_leaf=5,\n",
    "                       min_samples_split=15)"
   ]
  },
  {
   "cell_type": "code",
   "execution_count": 57,
   "id": "7df90b5c",
   "metadata": {},
   "outputs": [],
   "source": [
    "model3.fit(x_train,y_train)\n",
    "predict2 = model3.predict(x_test)"
   ]
  },
  {
   "cell_type": "code",
   "execution_count": 58,
   "id": "1aa1f77c",
   "metadata": {},
   "outputs": [
    {
     "name": "stdout",
     "output_type": "stream",
     "text": [
      "Final score for Random Forest:-  0.3939393939393939\n"
     ]
    }
   ],
   "source": [
    "print(\"Final score for Random Forest:- \", accuracy_score(y_test,predict2))"
   ]
  },
  {
   "cell_type": "code",
   "execution_count": 46,
   "id": "530fb342",
   "metadata": {},
   "outputs": [],
   "source": [
    "x = new_data.iloc[:,0:-1]\n",
    "x = np.array(x)"
   ]
  },
  {
   "cell_type": "code",
   "execution_count": 47,
   "id": "db84852e",
   "metadata": {},
   "outputs": [],
   "source": [
    "y = pd.DataFrame(new_data.iloc[:,-1])"
   ]
  },
  {
   "cell_type": "code",
   "execution_count": 48,
   "id": "193f91ab",
   "metadata": {},
   "outputs": [],
   "source": [
    "from imblearn.over_sampling import SMOTE\n",
    "smote = SMOTE()\n",
    "x,y = smote.fit_resample(x,y)"
   ]
  },
  {
   "cell_type": "code",
   "execution_count": 49,
   "id": "82a6a858",
   "metadata": {},
   "outputs": [],
   "source": [
    "from sklearn.preprocessing import power_transform\n",
    "x = power_transform(x,method='yeo-johnson')"
   ]
  },
  {
   "cell_type": "code",
   "execution_count": 50,
   "id": "8437a12a",
   "metadata": {},
   "outputs": [],
   "source": [
    "from sklearn.preprocessing import StandardScaler\n",
    "sc = StandardScaler()\n",
    "x = sc.fit_transform(x)"
   ]
  },
  {
   "cell_type": "code",
   "execution_count": 51,
   "id": "0103db31",
   "metadata": {},
   "outputs": [],
   "source": [
    "x_train, x_test, y_train, y_test = train_test_split(x,y,test_size=0.25,random_state=42)"
   ]
  },
  {
   "cell_type": "code",
   "execution_count": 52,
   "id": "d41f4685",
   "metadata": {},
   "outputs": [],
   "source": [
    "model2 = RandomForestClassifier()"
   ]
  },
  {
   "cell_type": "code",
   "execution_count": 53,
   "id": "4a0461a2",
   "metadata": {},
   "outputs": [
    {
     "data": {
      "text/plain": [
       "RandomForestClassifier()"
      ]
     },
     "execution_count": 53,
     "metadata": {},
     "output_type": "execute_result"
    }
   ],
   "source": [
    "model2.fit(x_train,y_train)"
   ]
  },
  {
   "cell_type": "code",
   "execution_count": 54,
   "id": "ccf45125",
   "metadata": {},
   "outputs": [],
   "source": [
    "predict1 = model2.predict(x_test)"
   ]
  },
  {
   "cell_type": "code",
   "execution_count": 55,
   "id": "9dd83678",
   "metadata": {},
   "outputs": [
    {
     "name": "stdout",
     "output_type": "stream",
     "text": [
      "Final score:-  0.8181818181818182\n"
     ]
    }
   ],
   "source": [
    "print(\"Final score:- \", accuracy_score(y_test,predict1))"
   ]
  },
  {
   "cell_type": "code",
   "execution_count": null,
   "id": "bd868ae5",
   "metadata": {},
   "outputs": [],
   "source": []
  },
  {
   "cell_type": "code",
   "execution_count": null,
   "id": "82f2468e",
   "metadata": {},
   "outputs": [],
   "source": []
  },
  {
   "cell_type": "code",
   "execution_count": null,
   "id": "4ff032ca",
   "metadata": {},
   "outputs": [],
   "source": []
  },
  {
   "cell_type": "code",
   "execution_count": null,
   "id": "89f30a3b",
   "metadata": {},
   "outputs": [],
   "source": []
  },
  {
   "cell_type": "code",
   "execution_count": null,
   "id": "caef378d",
   "metadata": {},
   "outputs": [],
   "source": []
  },
  {
   "cell_type": "code",
   "execution_count": null,
   "id": "b1c33e54",
   "metadata": {},
   "outputs": [],
   "source": []
  },
  {
   "cell_type": "code",
   "execution_count": null,
   "id": "b7b7e158",
   "metadata": {},
   "outputs": [],
   "source": []
  },
  {
   "cell_type": "code",
   "execution_count": null,
   "id": "089782a3",
   "metadata": {},
   "outputs": [],
   "source": []
  },
  {
   "cell_type": "code",
   "execution_count": null,
   "id": "2be0b28c",
   "metadata": {},
   "outputs": [],
   "source": []
  },
  {
   "cell_type": "code",
   "execution_count": null,
   "id": "447dc2d0",
   "metadata": {},
   "outputs": [],
   "source": []
  }
 ],
 "metadata": {
  "kernelspec": {
   "display_name": "Python 3 (ipykernel)",
   "language": "python",
   "name": "python3"
  },
  "language_info": {
   "codemirror_mode": {
    "name": "ipython",
    "version": 3
   },
   "file_extension": ".py",
   "mimetype": "text/x-python",
   "name": "python",
   "nbconvert_exporter": "python",
   "pygments_lexer": "ipython3",
   "version": "3.9.7"
  }
 },
 "nbformat": 4,
 "nbformat_minor": 5
}
